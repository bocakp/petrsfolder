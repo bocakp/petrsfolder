{
 "cells": [
  {
   "cell_type": "markdown",
   "metadata": {},
   "source": [
    "# 1 Executive Summary"
   ]
  },
  {
   "cell_type": "markdown",
   "metadata": {},
   "source": [
    "The purpose of this document is to describe the validation of the Equity Barrier Option pricing model. This section gives a high-level summary of the model overview and purpose, key model assumptions, limitations and uncertainties and a list of the validation findings."
   ]
  },
  {
   "cell_type": "markdown",
   "metadata": {},
   "source": [
    "## 1.1 Model Overview and Purpose"
   ]
  },
  {
   "cell_type": "markdown",
   "metadata": {},
   "source": [
    "The purpose of the model is to compute the market values and risk sensitivities for Equity Barrier Options. A barrier option is a type of option whose payoff depends on whether or not the underlying asset has reached or exceeded a predetermined price. A barrier option can be a knock-out option, meaning it can expire worthless if the underlying exceeds a certain price, or it can be a knock-in option, in which case it has no value until the underlying reaches a certain price. The option can be either a call or a put option.The model used to price barrier options is a local volatility model, that uses finite difference methods to price the option. Details of the model are provided and assessed in the later sections.The fair value provided by the model is used for PnL calculation. The model outputs are also used for computation of Value-at-Risk (VaR), credit valuation adjustment (CVA), and other risk and capital metrics as required by the regulators, and help the firm understand its risk sensitivities under various stress scenarios. Fair value and Greeks provided by the model are also used for risk management and hedging."
   ]
  },
  {
   "cell_type": "markdown",
   "metadata": {},
   "source": [
    "Table 1: List of Permitted Uses"
   ]
  },
  {
   "cell_type": "markdown",
   "metadata": {},
   "source": [
    "|\\#|Channel / Product|Business Program or Process|Usage Description|\n",
    "|---|---|---|---|\n",
    "|1|...|...|...|\n",
    "|2|...|...|...|\n",
    "|…|...|...|...|"
   ]
  }
 ],
 "metadata": {
  "kernel_spec": {
   "display_name": "Python 3",
   "language": "python",
   "name": "python3"
  },
  "kernelspec": {
   "display_name": "Python 3",
   "language": "python",
   "name": "python3"
  },
  "language_info": {
   "codemirror_mode": {
    "name": "ipython",
    "version": 3
   },
   "file_extension": ".py",
   "mimetype": "text/x-python",
   "name": "python",
   "nbconvert_exporter": "python",
   "pygments_lexer": "ipython3",
   "version": "3.7.3"
  }
 },
 "nbformat": 4,
 "nbformat_minor": 2
}
